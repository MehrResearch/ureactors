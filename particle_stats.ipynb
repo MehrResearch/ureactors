{
 "cells": [
  {
   "cell_type": "markdown",
   "metadata": {},
   "source": [
    "# Particle statistics calculations\n",
    "\n",
    "The git repository for this notebook contains a includes a standard development environment that downloads the necessary dataset and install all required packages. If using VS Code you can use the _Dev containers: Reopen in container_ command to run this notebook locally within a tested environment."
   ]
  },
  {
   "cell_type": "code",
   "execution_count": null,
   "metadata": {},
   "outputs": [],
   "source": [
    "import gzip\n",
    "import pickle\n",
    "from pathlib import Path\n",
    "\n",
    "import matplotlib\n",
    "import numpy as np\n",
    "import pandas as pd\n",
    "import PIL\n",
    "import seaborn as sns\n",
    "from ipywidgets import Button, interact, interactive\n",
    "from matplotlib import pyplot as plt\n",
    "from tqdm.auto import tqdm\n",
    "from transformers import pipeline\n",
    "\n",
    "DATA_HOME = Path(\"./data\") / \"LZ-05\"\n",
    "\n",
    "sns.set(\n",
    "    context=\"notebook\",\n",
    "    style=\"ticks\",\n",
    "    font=\"Arial\",\n",
    "    font_scale=1.1,\n",
    "    rc={\"svg.fonttype\": \"none\", \"lines.linewidth\": 1.6, \"figure.autolayout\": True},\n",
    ")"
   ]
  },
  {
   "cell_type": "code",
   "execution_count": null,
   "metadata": {},
   "outputs": [],
   "source": [
    "excel_file = pd.read_excel(DATA_HOME / \"Experiments.xlsx\").query('Active == \"Yes\"')\n",
    "excel_file"
   ]
  },
  {
   "cell_type": "code",
   "execution_count": null,
   "metadata": {},
   "outputs": [],
   "source": [
    "sample_image_files = {\n",
    "    filename: DATA_HOME / filename for filename in excel_file[\"Filename\"] if (DATA_HOME / filename).exists()\n",
    "}"
   ]
  },
  {
   "cell_type": "code",
   "execution_count": null,
   "metadata": {},
   "outputs": [],
   "source": [
    "# read image files\n",
    "imgs_RGB = {id: PIL.Image.open(path)\n",
    "            for id, path in tqdm(sample_image_files.items())}\n",
    "\n",
    "# shrink by 1/4\n",
    "imgs_small_RGB = {\n",
    "    id: img.resize((img.width // 4, img.height // 4), resample=PIL.Image.BILINEAR)\n",
    "    for id, img in tqdm(imgs_RGB.items())\n",
    "}"
   ]
  },
  {
   "cell_type": "markdown",
   "metadata": {},
   "source": [
    "Show the first few images"
   ]
  },
  {
   "cell_type": "code",
   "execution_count": null,
   "metadata": {},
   "outputs": [],
   "source": [
    "def show_image(id):\n",
    "    data = imgs_small_RGB[id]\n",
    "    plt.imshow(data)\n",
    "    plt.title(id)\n",
    "\n",
    "\n",
    "interact(show_image, id=sample_image_files.keys())"
   ]
  },
  {
   "cell_type": "markdown",
   "metadata": {},
   "source": [
    "Generate or load masks for all images"
   ]
  },
  {
   "cell_type": "code",
   "execution_count": null,
   "metadata": {},
   "outputs": [],
   "source": [
    "mask_generator = pipeline(task=\"mask-generation\", model=\"facebook/sam-vit-base\", device='cuda', points_per_crop=64, pred_iou_thresh=0.2, stability_score_thresh=0.2, crops_nms_thresh=0.1, points_per_batch=128)"
   ]
  },
  {
   "cell_type": "code",
   "execution_count": null,
   "metadata": {},
   "outputs": [],
   "source": [
    "mask_file = \"out/masks.pkl.gz\"\n",
    "\n",
    "if mask_file.exists():\n",
    "    with gzip.open(mask_file, \"rb\") as f:\n",
    "        masks = {\n",
    "            id: mask for id, mask in pickle.load(f).items() if id in imgs_small_RGB\n",
    "        }\n",
    "else:\n",
    "    masks = {}\n",
    "\n",
    "new_masks = {\n",
    "    id: np.array(mask_generator(img)['masks'])\n",
    "    for id, img in tqdm(imgs_small_RGB.items())\n",
    "    if id not in masks\n",
    "}\n",
    "# Save masks to pickle file\n",
    "if new_masks:\n",
    "    masks.update(new_masks)\n",
    "    if mask_file.exists():\n",
    "        # make a backup of current mask_file with a timestamp\n",
    "        backup_file = mask_file.with_name(\n",
    "            f'{mask_file.stem}_{pd.Timestamp.now().strftime(\"%Y%m%d%H%M%S\")}{mask_file.suffix}'\n",
    "        )\n",
    "        mask_file.rename(backup_file)\n",
    "    with gzip.open(mask_file, \"wb\") as f:\n",
    "        pickle.dump(masks, f)\n",
    "{id: len(img_masks) for id, img_masks in masks.items()}"
   ]
  },
  {
   "cell_type": "code",
   "execution_count": null,
   "metadata": {},
   "outputs": [],
   "source": [
    "def show_hist(id):\n",
    "    areas = np.log10([sample_mask.sum() for sample_mask in masks[id]])\n",
    "    plt.hist(areas, bins=100)\n",
    "\n",
    "\n",
    "interact(show_hist, id=sample_image_files.keys())"
   ]
  },
  {
   "cell_type": "code",
   "execution_count": null,
   "metadata": {},
   "outputs": [],
   "source": [
    "# Remove masks that are too big\n",
    "MAX_MASK_AREA = 1500\n",
    "MIN_MASK_AREA = 50\n",
    "masks_filtered = {\n",
    "    id: np.array([mask for mask in img_masks if MIN_MASK_AREA < mask.sum() < MAX_MASK_AREA])\n",
    "    for id, img_masks in masks.items()\n",
    "}\n",
    "{id: len(img_masks) for id, img_masks in masks_filtered.items()}"
   ]
  },
  {
   "cell_type": "markdown",
   "metadata": {},
   "source": [
    "## Visualising the location of masks for each image"
   ]
  },
  {
   "cell_type": "code",
   "execution_count": null,
   "metadata": {},
   "outputs": [],
   "source": [
    "mask_tensors = {\n",
    "    img_id: masks_filtered[img_id].astype(np.uint8)\n",
    "    for img_id in tqdm(masks_filtered)\n",
    "}"
   ]
  },
  {
   "cell_type": "code",
   "execution_count": null,
   "metadata": {},
   "outputs": [],
   "source": [
    "interact(lambda sample_name: plt.imshow(mask_tensors[sample_name].sum(axis=0)) and plt.title(sample_name), sample_name=mask_tensors.keys())"
   ]
  },
  {
   "cell_type": "code",
   "execution_count": null,
   "metadata": {},
   "outputs": [],
   "source": [
    "all_included = {\n",
    "    img_id: np.sum(\n",
    "        mask_tensors[img_id].astype(int)\n",
    "        * np.random.randint(1, 16, size=(mask_tensors[img_id].shape[0], 1, 1)),\n",
    "        axis=0,\n",
    "    )\n",
    "    for img_id in tqdm(mask_tensors)\n",
    "}"
   ]
  },
  {
   "cell_type": "code",
   "execution_count": null,
   "metadata": {},
   "outputs": [],
   "source": [
    "# Color map where 0 is black and 1-16 are different colors\n",
    "cmap = matplotlib.colormaps[\"tab20\"]\n",
    "# set 0 to black\n",
    "cmap.colors = ((0, 0, 0, 1),) + cmap.colors[1:]\n",
    "\n",
    "def show_fn(img_id):\n",
    "    filename = img_id.replace(\".jpg\", \".svg\")\n",
    "    img = imgs_small_RGB[img_id]\n",
    "    mask = all_included[img_id]\n",
    "    f, (img_ax, mask_ax) = plt.subplots(1, 2, figsize=(12, 6))\n",
    "    img_ax.imshow(img)\n",
    "    mask_ax.imshow(mask, cmap=cmap, interpolation=\"none\")\n",
    "    mask_ax.set_title(f\"{len(masks_filtered[img_id])} masks\")\n",
    "\n",
    "    b = Button(description=f\"Save to {filename}\")\n",
    "    b.on_click(lambda x: f.savefig(filename, format=\"svg\", transparent=True))\n",
    "    display(b)\n",
    "\n",
    "\n",
    "interactive(show_fn, img_id=all_included.keys())"
   ]
  },
  {
   "cell_type": "code",
   "execution_count": null,
   "metadata": {},
   "outputs": [],
   "source": [
    "# Add mask count and area to the dataframe\n",
    "mask_areas = [\n",
    "    pd.DataFrame(\n",
    "        {\n",
    "            \"mask_area\": [mask.sum() for mask in masks],\n",
    "            \"Filename\": img_id,\n",
    "        },\n",
    "    )\n",
    "    for img_id, masks in masks_filtered.items()\n",
    "]\n",
    "count_df = excel_file.merge(\n",
    "    pd.DataFrame(\n",
    "        {\"# particles\": [len(masks) for masks in masks_filtered.values()]},\n",
    "        index=masks_filtered.keys(),\n",
    "    ),\n",
    "    left_on=\"Filename\",\n",
    "    right_index=True,\n",
    ")\n",
    "mask_df = excel_file.merge(pd.concat(mask_areas), on=\"Filename\")\n",
    "mask_df = mask_df.assign(\n",
    "    **{\"Diameter (µm)\": np.sqrt(mask_df[\"mask_area\"] / np.pi) * 2 / 0.906}\n",
    ")"
   ]
  },
  {
   "cell_type": "code",
   "execution_count": null,
   "metadata": {},
   "outputs": [],
   "source": [
    "mask_df"
   ]
  },
  {
   "cell_type": "code",
   "execution_count": null,
   "metadata": {},
   "outputs": [],
   "source": [
    "count_df"
   ]
  },
  {
   "cell_type": "code",
   "execution_count": null,
   "metadata": {},
   "outputs": [],
   "source": [
    "sns.lineplot(\n",
    "    data=count_df.query(\"`Number of pulses` < 2400\").rename(\n",
    "        columns={\"Number of pulses\": \"# pulses\"}\n",
    "    ),\n",
    "    x=\"# pulses\",\n",
    "    y=\"# particles\",\n",
    "    hue=\"Pulse duration\",\n",
    "    # native_scale=True,\n",
    "    # width=0.4,\n",
    "    # log_scale=True\n",
    ")\n",
    "plt.savefig(\n",
    "    \"out/num_particles vs num_pulses.svg\",\n",
    "    transparent=True,\n",
    "    bbox_inches=\"tight\",\n",
    "    pad_inches=0.1,\n",
    ")"
   ]
  },
  {
   "cell_type": "code",
   "execution_count": null,
   "metadata": {},
   "outputs": [],
   "source": [
    "sns.boxplot(\n",
    "    data=count_df.query(\"`Number of pulses` < 2400\").rename(\n",
    "        columns={\"Number of pulses\": \"# pulses\"}\n",
    "    ),\n",
    "    x=\"# pulses\",\n",
    "    y=\"# particles\",\n",
    "    hue=\"Pulse duration\",\n",
    "    native_scale=True,\n",
    "    fliersize=1,\n",
    "    showfliers=False,\n",
    "    # width=0.4,\n",
    "    # log_scale=True\n",
    ")"
   ]
  },
  {
   "cell_type": "code",
   "execution_count": null,
   "metadata": {},
   "outputs": [],
   "source": [
    "sns.boxplot(\n",
    "    data=mask_df.query(\"`Number of pulses` < 2400\").rename(\n",
    "        columns={\"Number of pulses\": \"# pulses\"}\n",
    "    ),\n",
    "    x=\"# pulses\",\n",
    "    y=\"Diameter (µm)\",\n",
    "    hue=\"Pulse duration\",\n",
    "    native_scale=True,\n",
    "    fliersize=1,\n",
    "    showfliers=False,\n",
    "    # width=0.4,\n",
    "    # log_scale=True\n",
    ")\n",
    "plt.savefig(\n",
    "    \"out/diameter vs num_pulses.svg\", transparent=True, bbox_inches=\"tight\", pad_inches=0.1\n",
    ")"
   ]
  },
  {
   "cell_type": "code",
   "execution_count": null,
   "metadata": {},
   "outputs": [],
   "source": [
    "sns.lineplot(\n",
    "    data=mask_df.query(\"`Number of pulses` < 2400\").rename(\n",
    "        columns={\"Number of pulses\": \"# pulses\"}\n",
    "    ),\n",
    "    x=\"# pulses\",\n",
    "    y=\"Diameter (µm)\",\n",
    "    hue=\"Pulse duration\",\n",
    "    # width=0.4,\n",
    "    # log_scale=True\n",
    ")"
   ]
  },
  {
   "cell_type": "code",
   "execution_count": null,
   "metadata": {},
   "outputs": [],
   "source": [
    "count_df.to_excel(\"out/mask_counts.xlsx\", index=False)\n",
    "mask_df.to_excel(\"out/mask_areas.xlsx\", index=False)"
   ]
  }
 ],
 "metadata": {
  "kernelspec": {
   "display_name": "Python 3",
   "language": "python",
   "name": "python3"
  },
  "language_info": {
   "codemirror_mode": {
    "name": "ipython",
    "version": 3
   },
   "file_extension": ".py",
   "mimetype": "text/x-python",
   "name": "python",
   "nbconvert_exporter": "python",
   "pygments_lexer": "ipython3",
   "version": "3.11.9"
  }
 },
 "nbformat": 4,
 "nbformat_minor": 2
}
