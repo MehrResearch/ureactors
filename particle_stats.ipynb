{
 "cells": [
  {
   "cell_type": "markdown",
   "metadata": {},
   "source": [
    "# Particle statistics calculations\n",
    "\n",
    "The git repository for this notebook contains a includes a standard development environment that downloads the necessary dataset and install all required packages. If using VS Code you can use the _Dev containers: Reopen in container_ command to run this notebook locally within a tested environment."
   ]
  },
  {
   "cell_type": "code",
   "execution_count": null,
   "metadata": {},
   "outputs": [],
   "source": [
    "import gzip\n",
    "import math\n",
    "import pickle\n",
    "import xml.etree.ElementTree as ET\n",
    "from pathlib import Path\n",
    "\n",
    "import matplotlib\n",
    "import matplotlib.pyplot as plt\n",
    "import numpy as np\n",
    "import pandas as pd\n",
    "import PIL\n",
    "import seaborn as sns\n",
    "from ipywidgets import Button, interact, interactive\n",
    "from scipy import stats\n",
    "from scipy.stats import bootstrap\n",
    "from tqdm.auto import tqdm\n",
    "from transformers import pipeline\n",
    "\n",
    "DATA_HOME = Path(\"data\") / \"LZ-05\"\n",
    "\n",
    "sns.set(\n",
    "    context=\"notebook\",\n",
    "    style=\"ticks\",\n",
    "    font=\"Arial\",\n",
    "    font_scale=1.1,\n",
    "    rc={\"svg.fonttype\": \"none\", \"lines.linewidth\": 1.6, \"figure.autolayout\": True},\n",
    ")"
   ]
  },
  {
   "cell_type": "code",
   "execution_count": null,
   "metadata": {},
   "outputs": [],
   "source": [
    "excel_file = pd.read_excel(\"Experiments.xlsx\").query('Active == \"Yes\"')\n",
    "excel_file"
   ]
  },
  {
   "cell_type": "code",
   "execution_count": null,
   "metadata": {},
   "outputs": [],
   "source": [
    "sample_image_files = {\n",
    "    filename: DATA_HOME / filename\n",
    "    for filename in excel_file[\"Filename\"]\n",
    "    if (DATA_HOME / filename).exists()\n",
    "}\n",
    "\n",
    "len(sample_image_files)"
   ]
  },
  {
   "cell_type": "code",
   "execution_count": null,
   "metadata": {},
   "outputs": [],
   "source": [
    "# read image files\n",
    "imgs_RGB = {id: PIL.Image.open(path) for id, path in tqdm(sample_image_files.items())}\n",
    "\n",
    "# shrink by 1/4\n",
    "imgs_small_RGB = {\n",
    "    id: img.resize((img.width // 4, img.height // 4), resample=PIL.Image.BILINEAR)\n",
    "    for id, img in tqdm(imgs_RGB.items())\n",
    "}"
   ]
  },
  {
   "cell_type": "markdown",
   "metadata": {},
   "source": [
    "Show the first few images"
   ]
  },
  {
   "cell_type": "code",
   "execution_count": null,
   "metadata": {},
   "outputs": [],
   "source": [
    "def show_image(id):\n",
    "    data = imgs_small_RGB[id]\n",
    "    plt.imshow(data)\n",
    "    plt.title(id)\n",
    "\n",
    "\n",
    "interact(show_image, id=sample_image_files.keys());"
   ]
  },
  {
   "cell_type": "markdown",
   "metadata": {},
   "source": [
    "## Generate or load masks for all images"
   ]
  },
  {
   "cell_type": "code",
   "execution_count": null,
   "metadata": {},
   "outputs": [],
   "source": [
    "mask_generator = pipeline(\n",
    "    task=\"mask-generation\",\n",
    "    model=\"facebook/sam-vit-base\",\n",
    "    device=\"cuda\",\n",
    "    points_per_crop=64,\n",
    "    pred_iou_thresh=0.2,\n",
    "    stability_score_thresh=0.2,\n",
    "    crops_nms_thresh=0.1,\n",
    "    points_per_batch=128,\n",
    ")"
   ]
  },
  {
   "cell_type": "code",
   "execution_count": null,
   "metadata": {},
   "outputs": [],
   "source": [
    "mask_file = Path(\"out/masks.pkl.gz\")\n",
    "mask_file.parent.mkdir(parents=True, exist_ok=True)\n",
    "\n",
    "if mask_file.exists():\n",
    "    with gzip.open(mask_file, \"rb\") as f:\n",
    "        masks = {\n",
    "            id: mask for id, mask in pickle.load(f).items() if id in imgs_small_RGB\n",
    "        }\n",
    "else:\n",
    "    masks = {}\n",
    "\n",
    "new_masks = {\n",
    "    id: np.array(mask_generator(img)[\"masks\"])\n",
    "    for id, img in tqdm(imgs_small_RGB.items())\n",
    "    if id not in masks\n",
    "}\n",
    "# Save masks to pickle file\n",
    "if new_masks:\n",
    "    masks.update(new_masks)\n",
    "    if mask_file.exists():\n",
    "        # make a backup of current mask_file with a timestamp\n",
    "        backup_file = mask_file.with_name(\n",
    "            f'{mask_file.stem}_{pd.Timestamp.now().strftime(\"%Y%m%d%H%M%S\")}{mask_file.suffix}'\n",
    "        )\n",
    "        mask_file.rename(backup_file)\n",
    "    with gzip.open(mask_file, \"wb\") as f:\n",
    "        pickle.dump(masks, f)\n",
    "{id: len(img_masks) for id, img_masks in masks.items()}"
   ]
  },
  {
   "cell_type": "markdown",
   "metadata": {},
   "source": [
    "Mask area historgram"
   ]
  },
  {
   "cell_type": "code",
   "execution_count": null,
   "metadata": {},
   "outputs": [],
   "source": [
    "def show_hist(id):\n",
    "    areas = np.log10([sample_mask.sum() for sample_mask in masks[id]])\n",
    "    plt.hist(areas, bins=100)\n",
    "    plt.title(id)\n",
    "    plt.xlabel(\"log10(area/px^2)\")\n",
    "\n",
    "\n",
    "interact(show_hist, id=sample_image_files.keys())"
   ]
  },
  {
   "cell_type": "markdown",
   "metadata": {},
   "source": [
    "### Remove masks that are too big or too small\n"
   ]
  },
  {
   "cell_type": "code",
   "execution_count": null,
   "metadata": {},
   "outputs": [],
   "source": [
    "MAX_MASK_AREA = 1500\n",
    "MIN_MASK_AREA = 50\n",
    "masks_filtered = {\n",
    "    id: np.array(\n",
    "        [mask for mask in img_masks if MIN_MASK_AREA < mask.sum() < MAX_MASK_AREA]\n",
    "    )\n",
    "    for id, img_masks in masks.items()\n",
    "}\n",
    "{id: len(img_masks) for id, img_masks in masks_filtered.items()}"
   ]
  },
  {
   "cell_type": "markdown",
   "metadata": {},
   "source": [
    "## Visualising the location of masks for each image"
   ]
  },
  {
   "cell_type": "code",
   "execution_count": null,
   "metadata": {},
   "outputs": [],
   "source": [
    "mask_tensors = {\n",
    "    img_id: masks_filtered[img_id].astype(np.uint8) for img_id in tqdm(masks_filtered)\n",
    "}"
   ]
  },
  {
   "cell_type": "code",
   "execution_count": null,
   "metadata": {},
   "outputs": [],
   "source": [
    "interact(\n",
    "    lambda sample_name: plt.imshow(mask_tensors[sample_name].sum(axis=0))\n",
    "    and plt.title(sample_name)\n",
    "    and None,\n",
    "    sample_name=mask_tensors.keys(),\n",
    ")"
   ]
  },
  {
   "cell_type": "code",
   "execution_count": null,
   "metadata": {},
   "outputs": [],
   "source": [
    "all_included = {\n",
    "    img_id: np.sum(\n",
    "        mask_tensors[img_id].astype(int)\n",
    "        * np.random.randint(1, 16, size=(mask_tensors[img_id].shape[0], 1, 1)),\n",
    "        axis=0,\n",
    "    )\n",
    "    for img_id in tqdm(mask_tensors)\n",
    "}"
   ]
  },
  {
   "cell_type": "code",
   "execution_count": null,
   "metadata": {},
   "outputs": [],
   "source": [
    "# Color map where 0 is black and 1-16 are different colors\n",
    "cmap = matplotlib.colormaps[\"tab20\"]\n",
    "# set 0 to black\n",
    "cmap.colors = ((0, 0, 0, 1),) + cmap.colors[1:]\n",
    "\n",
    "\n",
    "def show_fn(img_id):\n",
    "    filename = img_id.replace(\".jpg\", \".svg\")\n",
    "    img = imgs_small_RGB[img_id]\n",
    "    mask = all_included[img_id]\n",
    "    f, (img_ax, mask_ax) = plt.subplots(1, 2, figsize=(12, 6))\n",
    "    img_ax.imshow(img)\n",
    "    mask_ax.imshow(mask, cmap=cmap, interpolation=\"none\")\n",
    "    mask_ax.set_title(f\"{len(masks_filtered[img_id])} masks\")\n",
    "\n",
    "    b = Button(description=f\"Save to {filename}\")\n",
    "    b.on_click(lambda x: f.savefig(filename, format=\"svg\", transparent=True))\n",
    "    display(b)\n",
    "\n",
    "\n",
    "interactive(show_fn, img_id=all_included.keys())"
   ]
  },
  {
   "cell_type": "markdown",
   "metadata": {},
   "source": [
    "### Add mask count and area to the dataframe"
   ]
  },
  {
   "cell_type": "code",
   "execution_count": null,
   "metadata": {},
   "outputs": [],
   "source": [
    "mask_areas = [\n",
    "    pd.DataFrame(\n",
    "        {\n",
    "            \"mask_area\": [mask.sum() for mask in masks],\n",
    "            \"Filename\": img_id,\n",
    "        },\n",
    "    )\n",
    "    for img_id, masks in masks_filtered.items()\n",
    "]\n",
    "count_df = excel_file.merge(\n",
    "    pd.DataFrame(\n",
    "        {\"# particles\": [len(masks) for masks in masks_filtered.values()]},\n",
    "        index=masks_filtered.keys(),\n",
    "    ),\n",
    "    left_on=\"Filename\",\n",
    "    right_index=True,\n",
    ")\n",
    "mask_df = excel_file.merge(pd.concat(mask_areas), on=\"Filename\")\n",
    "mask_df = mask_df.assign(\n",
    "    **{\"Diameter (µm)\": np.sqrt(mask_df[\"mask_area\"] / np.pi) * 2 / 0.906}\n",
    ")\n",
    "mask_df"
   ]
  },
  {
   "cell_type": "code",
   "execution_count": null,
   "metadata": {},
   "outputs": [],
   "source": [
    "count_df"
   ]
  },
  {
   "cell_type": "code",
   "execution_count": null,
   "metadata": {},
   "outputs": [],
   "source": [
    "sns.lineplot(\n",
    "    data=count_df.query(\"`Number of pulses` < 2400\").rename(\n",
    "        columns={\"Number of pulses\": \"# pulses\"}\n",
    "    ),\n",
    "    x=\"# pulses\",\n",
    "    y=\"# particles\",\n",
    "    hue=\"Pulse duration\",\n",
    ")\n",
    "plt.savefig(\n",
    "    \"out/num_particles vs num_pulses.svg\",\n",
    "    transparent=True,\n",
    "    bbox_inches=\"tight\",\n",
    "    pad_inches=0.1,\n",
    ")"
   ]
  },
  {
   "cell_type": "code",
   "execution_count": null,
   "metadata": {},
   "outputs": [],
   "source": [
    "sns.boxplot(\n",
    "    data=count_df.query(\"`Number of pulses` < 2400\").rename(\n",
    "        columns={\"Number of pulses\": \"# pulses\"}\n",
    "    ),\n",
    "    x=\"# pulses\",\n",
    "    y=\"# particles\",\n",
    "    hue=\"Pulse duration\",\n",
    "    native_scale=True,\n",
    "    fliersize=1,\n",
    "    showfliers=False,\n",
    "    # width=0.4,\n",
    "    # log_scale=True\n",
    ")"
   ]
  },
  {
   "cell_type": "code",
   "execution_count": null,
   "metadata": {},
   "outputs": [],
   "source": [
    "sns.boxplot(\n",
    "    data=mask_df.query(\"`Number of pulses` < 2400\").rename(\n",
    "        columns={\"Number of pulses\": \"# pulses\"}\n",
    "    ),\n",
    "    x=\"# pulses\",\n",
    "    y=\"Diameter (µm)\",\n",
    "    hue=\"Pulse duration\",\n",
    "    native_scale=True,\n",
    "    fliersize=1,\n",
    "    showfliers=False,\n",
    "    # width=0.4,\n",
    "    # log_scale=True\n",
    ")\n",
    "plt.savefig(\n",
    "    \"out/diameter vs num_pulses.svg\",\n",
    "    transparent=True,\n",
    "    bbox_inches=\"tight\",\n",
    "    pad_inches=0.1,\n",
    ")"
   ]
  },
  {
   "cell_type": "code",
   "execution_count": null,
   "metadata": {},
   "outputs": [],
   "source": [
    "sns.lineplot(\n",
    "    data=mask_df.query(\"`Number of pulses` < 2400\").rename(\n",
    "        columns={\"Number of pulses\": \"# pulses\"}\n",
    "    ),\n",
    "    x=\"# pulses\",\n",
    "    y=\"Diameter (µm)\",\n",
    "    hue=\"Pulse duration\",\n",
    "    # width=0.4,\n",
    "    # log_scale=True\n",
    ")"
   ]
  },
  {
   "cell_type": "code",
   "execution_count": null,
   "metadata": {},
   "outputs": [],
   "source": [
    "count_df.to_excel(\"out/mask_counts.xlsx\", index=False)\n",
    "mask_df.to_excel(\"out/mask_areas.xlsx\", index=False)"
   ]
  },
  {
   "cell_type": "code",
   "execution_count": null,
   "metadata": {},
   "outputs": [],
   "source": [
    "def parse_svg(file_path):\n",
    "    tree = ET.parse(file_path)\n",
    "    root = tree.getroot()\n",
    "\n",
    "    # Find the scale bar\n",
    "    scale_value = 200.0\n",
    "    scale_line = root.find(\".//*[@id='path9']\")\n",
    "    scale_width = float(scale_line.attrib[\"d\"].split()[-1])\n",
    "\n",
    "    # Calculate the conversion factor\n",
    "    conversion_factor = scale_value / scale_width\n",
    "\n",
    "    # Find all ellipse and circle elements\n",
    "    particles = root.findall(\".//*[@cx][@cy]\")\n",
    "\n",
    "    data = []\n",
    "    for particle in particles:\n",
    "        if \"rx\" in particle.attrib and \"ry\" in particle.attrib:\n",
    "            rx = float(particle.attrib[\"rx\"])\n",
    "            ry = float(particle.attrib[\"ry\"])\n",
    "        elif \"r\" in particle.attrib:\n",
    "            rx = ry = float(particle.attrib[\"r\"])\n",
    "        else:\n",
    "            continue\n",
    "\n",
    "        diameter = math.sqrt(rx * ry) * 2 * conversion_factor\n",
    "        data.append(diameter)\n",
    "\n",
    "    return pd.DataFrame(data, columns=[\"Diameter (µm)\"])\n",
    "\n",
    "\n",
    "# Run the analysis on the SVG file\n",
    "aerosol_aerosol_df = parse_svg(\"Figure 8 - sizing.svg\")\n",
    "\n",
    "\n",
    "def compare_groups(group1, group2, group1_name, group2_name):\n",
    "    combined_data = pd.concat(\n",
    "        [group1.assign(Group=group1_name), group2.assign(Group=group2_name)]\n",
    "    )\n",
    "\n",
    "    plt.figure(figsize=(12, 6))\n",
    "\n",
    "    plt.subplot(121)\n",
    "    sns.histplot(\n",
    "        data=combined_data, x=\"Diameter (µm)\", hue=\"Group\", kde=True, element=\"step\"\n",
    "    )\n",
    "    plt.title(\"Histogram of Particle Diameters\")\n",
    "\n",
    "    plt.subplot(122)\n",
    "    sns.boxplot(data=combined_data, x=\"Group\", y=\"Diameter (µm)\")\n",
    "    plt.title(\"Box Plot of Particle Diameters\")\n",
    "\n",
    "    plt.tight_layout()\n",
    "    plt.savefig(\"particle_diameter_comparison.png\")\n",
    "    print(\"\\nVisualization saved as 'particle_diameter_comparison.png'\")\n",
    "\n",
    "\n",
    "# Perform the comparison\n",
    "compare_groups(\n",
    "    aerosol_aerosol_df,\n",
    "    mask_df,\n",
    "    group1_name=\"Aerosol–aerosol\",\n",
    "    group2_name=\"Aerosol-bulk\",\n",
    ")"
   ]
  },
  {
   "cell_type": "code",
   "execution_count": null,
   "metadata": {},
   "outputs": [],
   "source": [
    "def compare_groups(\n",
    "    group1, group2, group1_name=\"Aerosol–aerosol\", group2_name=\"Aerosol-bulk\"\n",
    "):\n",
    "    combined_data = pd.concat(\n",
    "        [group1.assign(Group=group1_name), group2.assign(Group=group2_name)]\n",
    "    )\n",
    "\n",
    "    desc_stats = combined_data.groupby(\"Group\")[\"Diameter (µm)\"].describe()\n",
    "    print(\"Descriptive Statistics:\")\n",
    "    print(desc_stats)\n",
    "    print(f\"\\nSample sizes: {group1_name}: {len(group1)}, {group2_name}: {len(group2)}\")\n",
    "    print(\"\\n\")\n",
    "\n",
    "    t_stat, p_value_t = stats.ttest_ind(\n",
    "        group1[\"Diameter (µm)\"], group2[\"Diameter (µm)\"], equal_var=False\n",
    "    )\n",
    "\n",
    "    print(f\"t-statistic = {t_stat:.4f}, p-value = {p_value_t:.4f}\")\n",
    "\n",
    "    def diff_in_means(data1, data2):\n",
    "        return np.mean(data1) - np.mean(data2)\n",
    "\n",
    "    bootstrap_result = bootstrap(\n",
    "        (group1[\"Diameter (µm)\"], group2[\"Diameter (µm)\"]),\n",
    "        diff_in_means,\n",
    "        n_resamples=10000,\n",
    "    )\n",
    "    ci_low, ci_high = bootstrap_result.confidence_interval\n",
    "    print(f\"\\nBootstrap 95% CI for difference in means: ({ci_low:.4f}, {ci_high:.4f})\")\n",
    "\n",
    "    plt.figure(figsize=(12, 6))\n",
    "\n",
    "    plt.subplot(121)\n",
    "    sns.kdeplot(data=combined_data, x=\"Diameter (µm)\", hue=\"Group\", common_norm=False)\n",
    "    plt.title(\"Density Plot of Particle Diameters\")\n",
    "\n",
    "    plt.subplot(122)\n",
    "    sns.boxplot(data=combined_data, x=\"Group\", y=\"Diameter (µm)\")\n",
    "    plt.title(\"Box Plot of Particle Diameters\")\n",
    "\n",
    "    plt.tight_layout()\n",
    "    plt.savefig(\n",
    "        \"particle_diameter_comparison.png\",\n",
    "        transparent=True,\n",
    "        bbox_inches=\"tight\",\n",
    "        dpi=200,\n",
    "    )\n",
    "\n",
    "\n",
    "compare_groups(aerosol_aerosol_df, mask_df)"
   ]
  },
  {
   "cell_type": "markdown",
   "metadata": {},
   "source": [
    "## Pairwise t-tests between different conditions (pulse length, pulse count)"
   ]
  },
  {
   "cell_type": "code",
   "execution_count": null,
   "metadata": {},
   "outputs": [],
   "source": [
    "def pairwise_ttest_comparison(df):\n",
    "    # Get unique combinations of 'Number of pulses' and 'Pulse duration'\n",
    "    pulse_combinations = df.groupby([\"Number of pulses\", \"Pulse duration\"])\n",
    "\n",
    "    # Create a list of all unique pairs of combinations\n",
    "    combination_pairs = list(combinations(pulse_combinations.groups.keys(), 2))\n",
    "\n",
    "    # Initialize lists to store results\n",
    "    pair1_list, pair2_list, tstat_list, pvalue_list = [], [], [], []\n",
    "\n",
    "    for pair in combination_pairs:\n",
    "        group1 = pulse_combinations.get_group(pair[0])[\"Diameter (µm)\"]\n",
    "        group2 = pulse_combinations.get_group(pair[1])[\"Diameter (µm)\"]\n",
    "\n",
    "        # Perform Welch's t-test\n",
    "        t_stat, p_value = stats.ttest_ind(group1, group2, equal_var=False)\n",
    "\n",
    "        # Store results\n",
    "        pair1_list.append(f\"{pair[0][0]}, {pair[0][1]}\")\n",
    "        pair2_list.append(f\"{pair[1][0]}, {pair[1][1]}\")\n",
    "        tstat_list.append(t_stat)\n",
    "        pvalue_list.append(p_value)\n",
    "\n",
    "    # Create a dataframe with the results\n",
    "    results_df = pd.DataFrame(\n",
    "        {\n",
    "            \"Combination 1\": pair1_list,\n",
    "            \"Combination 2\": pair2_list,\n",
    "            \"t-statistic\": tstat_list,\n",
    "            \"p-value\": pvalue_list,\n",
    "        }\n",
    "    )\n",
    "\n",
    "    return results_df\n",
    "\n",
    "\n",
    "# Assuming mask_df is already loaded and has 'Number of pulses', 'Pulse duration', and 'Diameter (µm)' columns\n",
    "results = pairwise_ttest_comparison(mask_df)\n",
    "\n",
    "results.to_excel(\"out/pairwise_ttest_results.xlsx\", index=False)\n",
    "results"
   ]
  },
  {
   "cell_type": "markdown",
   "metadata": {},
   "source": [
    "## Pairwise difference of means bootstrap confidence intervals"
   ]
  },
  {
   "cell_type": "code",
   "execution_count": null,
   "metadata": {},
   "outputs": [],
   "source": [
    "def bootstrap_difference(group1, group2, n_resamples=10000):\n",
    "    return bootstrap(\n",
    "        (group1, group2), lambda x, y: np.mean(x) - np.mean(y), n_resamples=n_resamples\n",
    "    ).confidence_interval\n",
    "\n",
    "\n",
    "def create_comparison_matrix(df):\n",
    "    combinations = df.groupby([\"Number of pulses\", \"Pulse duration\"])\n",
    "    combo_list = list(combinations.groups.keys())\n",
    "    multi_index = pd.MultiIndex.from_tuples(\n",
    "        combo_list, names=[\"Number of pulses\", \"Pulse duration\"]\n",
    "    )\n",
    "\n",
    "    result_df = pd.DataFrame(index=multi_index, columns=multi_index)\n",
    "\n",
    "    for combo1 in combo_list:\n",
    "        group1 = combinations.get_group(combo1)[\"Diameter (µm)\"]\n",
    "        for combo2 in combo_list:\n",
    "            group2 = combinations.get_group(combo2)[\"Diameter (µm)\"]\n",
    "            ci_low, ci_high = bootstrap_difference(group1, group2)\n",
    "            result_df.loc[combo1, combo2] = f\"{ci_low:.2f} to {ci_high:.2f}\"\n",
    "\n",
    "    return result_df\n",
    "\n",
    "\n",
    "def plot_heatmap(result_matrix):\n",
    "    plt.figure(figsize=(12, 10))\n",
    "    heatmap_data = result_matrix.applymap(\n",
    "        lambda x: float(x.split()[0]) if x != \"0\" else 0\n",
    "    )\n",
    "    sns.heatmap(heatmap_data, annot=True, fmt=\".2f\", cmap=\"RdYlBu_r\", center=0)\n",
    "    plt.tight_layout()\n",
    "    plt.savefig(\"out/pulse_comparison_heatmap.png\", dpi=200, transparent=True)\n",
    "    plt.close()\n",
    "\n",
    "\n",
    "result_matrix = create_comparison_matrix(mask_df)\n",
    "plot_heatmap(result_matrix)"
   ]
  },
  {
   "cell_type": "code",
   "execution_count": 77,
   "metadata": {},
   "outputs": [],
   "source": [
    "result_matrix.to_excel(\"out/pulse_comparison_matrix.xlsx\")"
   ]
  }
 ],
 "metadata": {
  "kernelspec": {
   "display_name": "Python 3",
   "language": "python",
   "name": "python3"
  },
  "language_info": {
   "codemirror_mode": {
    "name": "ipython",
    "version": 3
   },
   "file_extension": ".py",
   "mimetype": "text/x-python",
   "name": "python",
   "nbconvert_exporter": "python",
   "pygments_lexer": "ipython3",
   "version": "3.12.3"
  }
 },
 "nbformat": 4,
 "nbformat_minor": 2
}
